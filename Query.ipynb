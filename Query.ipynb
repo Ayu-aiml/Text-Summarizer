{
 "cells": [
  {
   "cell_type": "code",
   "execution_count": 10,
   "id": "f55f7e12",
   "metadata": {},
   "outputs": [],
   "source": [
    "import nltk\n",
    "from nltk.tokenize import RegexpTokenizer, sent_tokenize\n",
    "from nltk.corpus import stopwords\n",
    "from nltk.corpus import wordnet as wn\n",
    "from nltk.stem.snowball import SnowballStemmer\n",
    "import operator"
   ]
  },
  {
   "cell_type": "code",
   "execution_count": 11,
   "id": "25ab3204",
   "metadata": {},
   "outputs": [],
   "source": [
    "stop_words = set(stopwords.words('english'))\n",
    "tokenizer = RegexpTokenizer(r'\\w+')\n",
    "stemmer = SnowballStemmer('english')"
   ]
  },
  {
   "cell_type": "code",
   "execution_count": 12,
   "id": "a4d0e80f",
   "metadata": {},
   "outputs": [],
   "source": [
    "# Read the files\n",
    "with open('gift-of-magi.txt', 'r') as f1, open('the-skylight-room.txt', 'r') as f2, open('the-cactus.txt', 'r') as f3:\n",
    "    text1 = f1.read()\n",
    "    text2 = f2.read()\n",
    "    text3 = f3.read()"
   ]
  },
  {
   "cell_type": "code",
   "execution_count": 13,
   "id": "c476c816",
   "metadata": {},
   "outputs": [],
   "source": [
    "# Tokenize and preprocess the text\n",
    "def preprocess(text):\n",
    "    tokens = tokenizer.tokenize(text)\n",
    "    tokens = [stemmer.stem(token.lower()) for token in tokens if token.isalpha() and not token.isdigit() and token.lower() not in stop_words]\n",
    "    return tokens"
   ]
  },
  {
   "cell_type": "code",
   "execution_count": 14,
   "id": "bac1dac3",
   "metadata": {},
   "outputs": [],
   "source": [
    "tk1 = preprocess(text1)\n",
    "tk2 = preprocess(text2)\n",
    "tk3 = preprocess(text3)"
   ]
  },
  {
   "cell_type": "code",
   "execution_count": 15,
   "id": "bcaacbca",
   "metadata": {},
   "outputs": [],
   "source": [
    "# Calculate word frequencies\n",
    "index1 = nltk.FreqDist(tk1)\n",
    "index2 = nltk.FreqDist(tk2)\n",
    "index3 = nltk.FreqDist(tk3)"
   ]
  },
  {
   "cell_type": "code",
   "execution_count": 16,
   "id": "a35c1c6c",
   "metadata": {},
   "outputs": [],
   "source": [
    "# Combine all tokens to calculate document frequencies\n",
    "comb = tk1 + tk2 + tk3\n",
    "cindex = nltk.FreqDist(comb)"
   ]
  },
  {
   "cell_type": "code",
   "execution_count": 17,
   "id": "ff524e51",
   "metadata": {},
   "outputs": [],
   "source": [
    "# Split documents into sentences\n",
    "sent1 = sent_tokenize(text1)\n",
    "sent2 = sent_tokenize(text2)\n",
    "sent3 = sent_tokenize(text3)"
   ]
  },
  {
   "cell_type": "code",
   "execution_count": 18,
   "id": "0a1fd3e0",
   "metadata": {},
   "outputs": [
    {
     "name": "stdout",
     "output_type": "stream",
     "text": [
      "Please enter a query: words\n",
      "Processed query: ['word']\n"
     ]
    }
   ],
   "source": [
    "# Get query from user and process it\n",
    "raw_query = input(\"Please enter a query: \")\n",
    "query_tokens = preprocess(raw_query)\n",
    "print(\"Processed query:\", query_tokens)"
   ]
  },
  {
   "cell_type": "code",
   "execution_count": 19,
   "id": "fd23e421",
   "metadata": {},
   "outputs": [],
   "source": [
    "# Calculate similarity score between query and sentence\n",
    "def calculate_similarity(word, query):\n",
    "    word_synsets = wn.synsets(word)\n",
    "    if word_synsets:\n",
    "        query_synsets = wn.synsets(query)\n",
    "        if query_synsets:\n",
    "            similarity_scores = [word_synset.wup_similarity(query_synset) for word_synset in word_synsets for query_synset in query_synsets]\n",
    "            avg_similarity = sum(similarity_scores) / len(similarity_scores)\n",
    "            return avg_similarity\n",
    "    return 0"
   ]
  },
  {
   "cell_type": "code",
   "execution_count": 20,
   "id": "9a65cc26",
   "metadata": {},
   "outputs": [],
   "source": [
    "# Calculate scores for each sentence in each document\n",
    "def calculate_scores(sentences, index, mu):\n",
    "    scores = {}\n",
    "    for sentence in sentences:\n",
    "        words = preprocess(sentence)\n",
    "        score = sum(index[word] / (1 + cindex[word]) for word in words)\n",
    "        query_similarity = sum(calculate_similarity(word, query_word) for word in words for query_word in query_tokens)\n",
    "        query_similarity /= len(words) + 1\n",
    "        scores[sentence] = mu * score + (1 - mu) * query_similarity\n",
    "    return scores"
   ]
  },
  {
   "cell_type": "code",
   "execution_count": 21,
   "id": "63da55cb",
   "metadata": {},
   "outputs": [],
   "source": [
    "mu1 = 0.08\n",
    "mu2 = 0.03\n",
    "mu3 = 0.2\n",
    "\n",
    "scores1 = calculate_scores(sent1, index1, mu1)\n",
    "scores2 = calculate_scores(sent2, index2, mu2)\n",
    "scores3 = calculate_scores(sent3, index3, mu3)"
   ]
  },
  {
   "cell_type": "code",
   "execution_count": 25,
   "id": "8126a17a",
   "metadata": {},
   "outputs": [
    {
     "name": "stdout",
     "output_type": "stream",
     "text": [
      "\n",
      "Gift of Magi Summary:\n",
      "Pennies saved one and two at a time by bulldozing the grocer and the vegetable man and the butcher until one's cheeks burned with the silent imputation of parsimony that such close dealing implied.\n",
      "Now, when the income was shrunk to $20, the letters of \"Dillingham\" looked blurred, as though they were thinking seriously of contracting to a modest and unassuming D. But whenever Mr. James Dillingham Young came home and reached his flat above he was called \"Jim\" and greatly hugged by Mrs. James Dillingham Young, already introduced to you as Della.\n",
      "A very thin and very agile person may, by observing his reflection in a rapid sequence of longitudinal strips, obtain a fairly accurate conception of his looks.\n",
      "Had the Queen of Sheba lived in the flat across the airshaft, Della would have let her hair hang out of the window some day to dry just to depreciate Her Majesty's jewels and gifts.\n",
      "Had King Solomon been the janitor, with all his treasures piled up in the basement, Jim would have pulled out his watch every time he passed, just to see him pluck at his beard from envy.\n",
      "It was a platinum fob chain simple and chaste in design, properly proclaiming its value by substance alone and not by meretricious ornamentation--as all good things should do.\n",
      "Within forty minutes her head was covered with tiny, close-lying curls that made her look wonderfully like a truant schoolboy.\n",
      "She had a habit of saying little silent prayers about the simplest everyday things, and now she whispered: \"Please, God, make him think I am still pretty.\"\n",
      "But she hugged them to her bosom, and at length she was able to look up with dim eyes and a smile and say: \"My hair grows so fast, Jim!\"\n"
     ]
    }
   ],
   "source": [
    "# Print summaries\n",
    "print('\\nGift of Magi Summary:')\n",
    "for sentence, score in scores1.items():\n",
    "    if score >= 9 * mu1:\n",
    "        print(sentence)"
   ]
  },
  {
   "cell_type": "code",
   "execution_count": 23,
   "id": "92f20ad3",
   "metadata": {},
   "outputs": [
    {
     "name": "stdout",
     "output_type": "stream",
     "text": [
      "\n",
      "The Skylight Room Summary:\n",
      "Convinced by her second-floor manner that it was worth the $12 that Mr. Toosenberry always paid for it until he left to take charge of his brother's orange plantation in Florida near Palm Beach, where Mrs. McIntyre always spent the winters that had the double front room with private bath, you managed to babble that you wanted something still cheaper.\n"
     ]
    }
   ],
   "source": [
    "print('\\nThe Skylight Room Summary:')\n",
    "for sentence, score in scores2.items():\n",
    "    if score >= 19 * mu2:\n",
    "        print(sentence)"
   ]
  },
  {
   "cell_type": "code",
   "execution_count": 24,
   "id": "851d88b9",
   "metadata": {},
   "outputs": [
    {
     "name": "stdout",
     "output_type": "stream",
     "text": [
      "\n",
      "The Cactus Summary:\n",
      "The most notable thing about Time is that it is so purely relative.\n",
      "A large amount of reminiscence is, by common consent, conceded to the drowning man; and it is not past belief that one may review an entire courtship while removing one's gloves.\n",
      "That is what Trysdale was doing, standing by a table in his bachelor apartments.\n",
      "On the table stood a singular-looking green plant in a red earthen jar.\n",
      "The plant was one of the species of cacti, and was provided with long, tentacular leaves that perpetually swayed with the slightest breeze with a peculiar beckoning motion.\n",
      "Trysdale's friend, the brother of the bride, stood at a sideboard complaining at being allowed to drink alone.\n",
      "White favors like stars upon their coats shone through the gloom of the apartment.\n",
      "As he slowly unbuttoned his gloves, there passed through Trysdale's mind a swift, scarifying retrospect of the last few hours.\n",
      "It seemed that in his nostrils was still the scent of the flowers that had been banked in odorous masses about the church, and in his ears the lowpitched hum of a thousand well-bred voices, the rustle of crisp garments, and, most insistently recurring, the drawling words of the minister irrevocably binding her to another.\n",
      "From this last hopeless point of view he still strove, as if it had become a habit of his mind, to reach some conjecture as to why and how he had lost her.\n",
      "Shaken rudely by the uncompromising fact, he had suddenly found himself confronted by a thing he had never before faced --his own innermost, unmitigated, arid unbedecked self.\n",
      "He saw all the garbs of pretence and egoism that he had worn now turn to rags of folly.\n",
      "He shuddered at the thought that to others, before now, the garments of his soul must have appeared sorry and threadbare.\n",
      "And how free from either she had always been--But why--\n",
      "\n",
      "As she had slowly moved up the aisle toward the altar he had felt an unworthy, sullen exultation that had served to support him.\n",
      "He had told himself that her paleness was from thoughts of another than the man to whom she was about to give herself.\n",
      "But even that poor consolation had been wrenched from him.\n",
      "For, when he saw that swift, limpid, upward look that she gave the man when he took her hand, he knew himself to be forgotten.\n",
      "Indeed, his conceit had crumbled; its last prop was gone.\n",
      "There had been no quarrel between them, nothing--\n",
      "\n",
      "For the thousandth time he remarshalled in his mind the events of those last few days before the tide had so suddenly turned.\n",
      "She had always insisted upon placing him upon a pedestal, and he had accepted her homage with royal grandeur.\n",
      "It had been a very sweet incense that she had burned before him; so modest (he told himself); so childlike and worshipful, and (he would once have sworn) so sincere.\n",
      "She had invested him with an almost supernatural number of high attributes and excellencies and talents, and he had absorbed the oblation as a desert drinks the rain that can coax from it no promise of blossom or fruit.\n",
      "As Trysdale grimly wrenched apart the seam of his last glove, the crowning instance of his fatuous and tardily mourned egoism came vividly back to him.\n",
      "The scene was the night when he had asked her to come up on his pedestal with him and share his greatness.\n",
      "He could not, now, for the pain of it, allow his mind to dwell upon the memory of her convincing beauty that night--the careless wave of her hair, the tenderness and virginal charm of her looks and words.\n",
      "During their conversation she had said:\n",
      "\n",
      "\"And Captain Carruthers tells me that you speak the Spanish language like a native.\n",
      "No doubt he (Trysdale) had been guilty (he sometimes did such things) of airing at the club some old, canting Castilian proverb dug from the hotchpotch at the back of dictionaries.\n",
      "Carruthers, who was one of his incontinent admirers, was the very man to have magnified this exhibition of doubtful erudition.\n",
      "the incense of her admiration had been so sweet and flattering.\n",
      "He allowed the imputation to pass without denial.\n",
      "Without protest, he allowed her to twine about his brow this spurious bay of Spanish scholarship.\n",
      "He let it grace his conquering head, and, among its soft convolutions, he did not feel the prick of the thorn that was to pierce him later.\n",
      "How she fluttered like a snared bird when he laid his mightiness at her feet!\n",
      "He could have sworn, and he could swear now, that unmistakable consent was in her eyes, but, coyly, she would give him no direct answer.\n",
      "\"I will send you my answer to-morrow,\" she said; and he, the indulgent, confident victor, smilingly granted the delay.\n",
      "The next day he waited, impatient, in his rooms for the word.\n",
      "At noon her groom came to the door and left the strange cactus in the red earthen jar.\n",
      "There was no note, no message, merely a tag upon the plant bearing a barbarous foreign or botanical name.\n",
      "He waited until night, but her answer did not come.\n",
      "His large pride and hurt vanity kept him from seeking her.\n",
      "Two evenings later they met at a dinner.\n",
      "Their greetings were conventional, but she looked at him, breathless, wondering, eager.\n",
      "He was courteous, adamant, waiting her explanation.\n",
      "With womanly swiftness she took her cue from his manner, and turned to snow and ice.\n",
      "Thus, and wider from this on, they had drifted apart.\n",
      "Humbled now, he sought the answer amid the ruins of his self-conceit.\n",
      "If--\n",
      "\n",
      "The voice of the other man in the room, querulously intruding upon his thoughts, aroused him.\n",
      "\"I say, Trysdale, what the deuce is the matter with you?\n",
      "You look unhappy as if you yourself had been married instead of having acted merely as an accomplice.\n",
      "Look at me, another accessory, come two thousand miles on a garlicky, cockroachy banana steamer all the way from South America to connive at the sacrifice--please to observe how lightly my guilt rests upon my shoulders.\n",
      "\"I don't drink just now, thanks,\" said Trysdale.\n",
      "\"Your brandy,\" resumed the other, coming over and joining him, \"is abominable.\n",
      "Run down to see me some time at Punta Redonda, and try some of our stuff that old Garcia smuggles in.\n",
      "Wherever did you rake up this cactus, Trysdale?\"\n",
      "\"A present,\" said Trysdale, \"from a friend.\n",
      "See hundreds of 'em around Punta every day.\n",
      "Here's the name on this tag tied to it.\n",
      "Know any Spanish, Trysdale?\"\n",
      "\"No,\" said Trysdale, with the bitter wraith of a smile--\"Is it Spanish?\"\n",
      "The natives imagine the leaves are reaching out and beckoning to you.\n",
      "Name means in English, 'Come and take me.'\"\n"
     ]
    }
   ],
   "source": [
    "print('\\nThe Cactus Summary:')\n",
    "for sentence, score in scores3.items():\n",
    "    if score >= 2 * mu3:\n",
    "        print(sentence)"
   ]
  },
  {
   "cell_type": "code",
   "execution_count": null,
   "id": "d9f8ab6f",
   "metadata": {},
   "outputs": [],
   "source": []
  }
 ],
 "metadata": {
  "kernelspec": {
   "display_name": "Python 3 (ipykernel)",
   "language": "python",
   "name": "python3"
  },
  "language_info": {
   "codemirror_mode": {
    "name": "ipython",
    "version": 3
   },
   "file_extension": ".py",
   "mimetype": "text/x-python",
   "name": "python",
   "nbconvert_exporter": "python",
   "pygments_lexer": "ipython3",
   "version": "3.10.6"
  }
 },
 "nbformat": 4,
 "nbformat_minor": 5
}
